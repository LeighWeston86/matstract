{
 "cells": [
  {
   "cell_type": "code",
   "execution_count": 14,
   "metadata": {},
   "outputs": [],
   "source": [
    "import numpy as np\n",
    "from matstract.nlp.ner_features import FeatureGenerator\n",
    "from matstract.models.AnnotationBuilder import AnnotationBuilder"
   ]
  },
  {
   "cell_type": "markdown",
   "metadata": {},
   "source": [
    "# Guide for using matstract.nlp.ner_features.FeatureGenerator"
   ]
  },
  {
   "cell_type": "markdown",
   "metadata": {},
   "source": [
    "### Load the annotated data"
   ]
  },
  {
   "cell_type": "code",
   "execution_count": 5,
   "metadata": {},
   "outputs": [],
   "source": [
    "builder = AnnotationBuilder()\n",
    "annotations = builder.get_annotations(user='leighmi6')\n",
    "annotations = [annotated.to_iob()[0] for annotated in annotations]\n",
    "annotations = [[[((word, pos), tag) for word, pos, tag in sent] for sent in doc] for doc in annotations] #this line makes my code compatible with Vahe's"
   ]
  },
  {
   "cell_type": "markdown",
   "metadata": {},
   "source": [
    "### Fit the features"
   ]
  },
  {
   "cell_type": "code",
   "execution_count": 9,
   "metadata": {},
   "outputs": [],
   "source": [
    "feature_generator = FeatureGenerator()\n",
    "features, outcomes = feature_generator.fit_transform(annotations)"
   ]
  },
  {
   "cell_type": "markdown",
   "metadata": {},
   "source": [
    "The features are returned as a scipy sparse array. Any categorical features are binary encoded and any numerical features have been normalized. The outcomes are returned as a list.\n",
    "\n",
    "FeatureGenerator can also return train and test sets for assessing ML models (see below)"
   ]
  },
  {
   "cell_type": "markdown",
   "metadata": {},
   "source": [
    "### Example usage"
   ]
  },
  {
   "cell_type": "code",
   "execution_count": 18,
   "metadata": {},
   "outputs": [
    {
     "name": "stdout",
     "output_type": "stream",
     "text": [
      "accuracy: 0.6545660805445264\n",
      "accuracy: 0.6647759500850823\n",
      "accuracy: 0.7430516165626773\n",
      "accuracy: 0.7816222348269994\n",
      "accuracy: 0.7884288145207033\n",
      "accuracy: 0.784458309699376\n",
      "accuracy: 0.7855927396483268\n",
      "###########\n",
      "f1 scores:\n",
      "B-APL 0.0\n",
      "B-CHM 0.1978021978021978\n",
      "B-CMT 0.38461538461538464\n",
      "B-CON 0.21276595744680854\n",
      "B-CUT 0.8571428571428571\n",
      "B-CVL 0.3\n",
      "B-DSC 0.36781609195402304\n",
      "B-MAT 0.712121212121212\n",
      "B-PMT 0.0\n",
      "B-PRO 0.23655913978494625\n",
      "B-PUT 0.9166666666666666\n",
      "B-PVL 0.5625000000000001\n",
      "B-QUA 0.16216216216216217\n",
      "B-REF 0.25\n",
      "B-SMT 0.0\n",
      "B-SPL 0.0\n",
      "I-APL 0.761904761904762\n",
      "I-CHM 0.15384615384615385\n",
      "I-CMT 0.8818897637795277\n",
      "I-CON 0.8333333333333334\n",
      "I-CUT 1.0\n",
      "I-CVL 0.7272727272727273\n",
      "I-DSC 0.8717948717948718\n",
      "I-MAT 0.2222222222222222\n",
      "I-PRO 0.7032967032967034\n",
      "I-PUT 0.4\n",
      "I-PVL 1.0\n",
      "I-QUA 0.6956521739130435\n",
      "I-REF 0.0\n",
      "I-SMT 0.631578947368421\n",
      "I-SPL 0.0\n",
      "O 0.9040424663127807\n"
     ]
    }
   ],
   "source": [
    "from sklearn.linear_model import LogisticRegression\n",
    "from sklearn.metrics import accuracy_score, f1_score\n",
    "\n",
    "(X_train, y_train), (X_test, y_test) = feature_generator.train_test_set\n",
    "best_accuracy = 0\n",
    "for C_param in np.logspace(-3, 3, 7):\n",
    "    clf = LogisticRegression(C = C_param)\n",
    "    clf.fit(X_train, y_train)\n",
    "    current_accuracy = accuracy_score(clf.predict(X_test), y_test)\n",
    "    print('accuracy: {}'.format(current_accuracy))\n",
    "    if current_accuracy > best_accuracy:\n",
    "        best_C = C_param\n",
    "clf = LogisticRegression(C = best_C)\n",
    "clf.fit(X_train, y_train)\n",
    "print('###########')\n",
    "print('f1 scores:')\n",
    "for label in clf.classes_:\n",
    "    print(label, f1_score(clf.predict(X_test), y_test, average = None, labels = label)[0])"
   ]
  }
 ],
 "metadata": {
  "kernelspec": {
   "display_name": "Python [conda env:matstract]",
   "language": "python",
   "name": "conda-env-matstract-py"
  },
  "language_info": {
   "codemirror_mode": {
    "name": "ipython",
    "version": 3
   },
   "file_extension": ".py",
   "mimetype": "text/x-python",
   "name": "python",
   "nbconvert_exporter": "python",
   "pygments_lexer": "ipython3",
   "version": "3.6.4"
  }
 },
 "nbformat": 4,
 "nbformat_minor": 2
}
