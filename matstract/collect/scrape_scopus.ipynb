{
 "cells": [
  {
   "cell_type": "code",
   "execution_count": 2,
   "metadata": {},
   "outputs": [],
   "source": [
    "from elsapy.elsclient import ElsClient\n",
    "from elsapy.elsprofile import ElsAuthor, ElsAffil\n",
    "from elsapy.elsdoc import FullDoc, AbsDoc\n",
    "from elsapy.elssearch import ElsSearch\n",
    "import json\n",
    "import warnings\n",
    "import xmltodict\n",
    "import pickle\n",
    "warnings.filterwarnings('ignore')\n",
    "\n",
    "## Load configuration\n",
    "con_file = open(\"config.json\")\n",
    "config = json.load(con_file)\n",
    "con_file.close()\n",
    "\n",
    "## Initialize client\n",
    "client = ElsClient(config['apikey'])\n",
    "client.inst_token = config['insttoken']\n",
    "\n",
    "# with open(\"elsevier_materials_journal_names.txt\", 'r') as file:\n",
    "#     lines = file.readlines()\n",
    "#     journals = [l.strip('\\n') for l in lines]\n"
   ]
  },
  {
   "cell_type": "code",
   "execution_count": 4,
   "metadata": {},
   "outputs": [
    {
     "ename": "SyntaxError",
     "evalue": "invalid syntax (<ipython-input-4-67acfba5d3b2>, line 9)",
     "traceback": [
      "\u001b[0;36m  File \u001b[0;32m\"<ipython-input-4-67acfba5d3b2>\"\u001b[0;36m, line \u001b[0;32m9\u001b[0m\n\u001b[0;31m    print json.dumps(resp.json(),\u001b[0m\n\u001b[0m             ^\u001b[0m\n\u001b[0;31mSyntaxError\u001b[0m\u001b[0;31m:\u001b[0m invalid syntax\n"
     ],
     "output_type": "error"
    }
   ],
   "source": [
    "import requests\n",
    "import json\n",
    "from my_scopus import MY_API_KEY\n",
    "\n",
    "resp = requests.get(\"http://api.elsevier.com/content/author?author_id=7004212771&view=metrics\",\n",
    "                    headers={'Accept':'application/json',\n",
    "                             'X-ELS-APIKey': MY_API_KEY})\n",
    "\n",
    "print json.dumps(resp.json(),\n",
    "                 sort_keys=True,\n",
    "                 indent=4, separators=(',', ': '))"
   ]
  },
  {
   "cell_type": "code",
   "execution_count": 6,
   "metadata": {},
   "outputs": [
    {
     "data": {
      "text/plain": [
       "'materialsscience'"
      ]
     },
     "execution_count": 6,
     "metadata": {},
     "output_type": "execute_result"
    }
   ],
   "source": [
    "## Build a dict containing the subject names, codes, etc for materials related articles\n",
    "\n",
    "with open('scidir.xml') as fd:\n",
    "    doc = xmltodict.parse(fd.read())\n",
    "\n",
    "subjects = {}\n",
    "for d in doc[\"subject-classifications\"][\"subject-classification\"]:\n",
    "    if \"Materials\" in d[\"@detail\"]:\n",
    "        subjects.update({d[\"@abbrev\"]:d})\n",
    "        \n",
    "        \n",
    "key = list(subjects.keys())[1]\n",
    "subjects[key][\"@abbrev\"]\n",
    "\n",
    "## Note: we may want to add in other subjects later such as inorganic chemistry, physical chemistry, etc..."
   ]
  },
  {
   "cell_type": "code",
   "execution_count": 13,
   "metadata": {
    "scrolled": true
   },
   "outputs": [
    {
     "name": "stdout",
     "output_type": "stream",
     "text": [
      "subj_search has 25 results out of a total of  4339756\n"
     ]
    }
   ],
   "source": [
    "## Initialize author search object and execute search\n",
    "subj_search = ElsSearch('SUBJAREA(MATE) AND DOCTYPE(ar)','scopus')\n",
    "subj_search.execute(get_all = False, els_client=client)\n",
    "\n",
    "print (\"subj_search has\", len(subj_search.results), \"results out of a total of \", subj_search.tot_num_res)"
   ]
  },
  {
   "cell_type": "code",
   "execution_count": 15,
   "metadata": {},
   "outputs": [
    {
     "name": "stdout",
     "output_type": "stream",
     "text": [
      "1250\n"
     ]
    }
   ],
   "source": [
    "with open(\"scidir_search_results.p\", 'rb') as f:\n",
    "    results = pickle.load(f)\n",
    "print(len(results[2]))"
   ]
  },
  {
   "cell_type": "code",
   "execution_count": 5,
   "metadata": {},
   "outputs": [
    {
     "name": "stdout",
     "output_type": "stream",
     "text": [
      "1250\n",
      "##############################################\n",
      "['_ElsSearch__base_url', '__class__', '__delattr__', '__dict__', '__dir__', '__doc__', '__eq__', '__format__', '__ge__', '__getattribute__', '__gt__', '__hash__', '__init__', '__init_subclass__', '__le__', '__lt__', '__module__', '__ne__', '__new__', '__reduce__', '__reduce_ex__', '__repr__', '__setattr__', '__sizeof__', '__str__', '__subclasshook__', '__weakref__', '_index', '_query', '_results', '_tot_num_res', '_uri', 'execute', 'hasAllResults', 'index', 'num_res', 'query', 'results', 'tot_num_res', 'uri']\n"
     ]
    }
   ],
   "source": [
    "print(len(subj_search._results))\n",
    "print(\"##############################################\")\n",
    "print(dir(subj_search))\n"
   ]
  },
  {
   "cell_type": "markdown",
   "metadata": {},
   "source": [
    "We'll want to use:\n",
    "\n",
    "\"content\" - \"journals\"\n",
    "\"subj\" - in list of subject codes."
   ]
  }
 ],
 "metadata": {
  "anaconda-cloud": {},
  "kernelspec": {
   "display_name": "Python [conda env:TRI]",
   "language": "python",
   "name": "conda-env-TRI-py"
  },
  "language_info": {
   "codemirror_mode": {
    "name": "ipython",
    "version": 3
   },
   "file_extension": ".py",
   "mimetype": "text/x-python",
   "name": "python",
   "nbconvert_exporter": "python",
   "pygments_lexer": "ipython3",
   "version": "3.6.2"
  }
 },
 "nbformat": 4,
 "nbformat_minor": 2
}
